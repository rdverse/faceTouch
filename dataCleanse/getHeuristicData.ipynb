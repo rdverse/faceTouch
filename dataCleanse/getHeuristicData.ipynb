{
 "cells": [
  {
   "cell_type": "code",
   "execution_count": 1,
   "source": [
    "    \"\"\"Import Libraries\n",
    "    \"\"\"\n",
    "import json\n",
    "import numpy as np\n",
    "import pandas as pd"
   ],
   "outputs": [],
   "metadata": {}
  },
  {
   "cell_type": "markdown",
   "source": [
    "# Load data"
   ],
   "metadata": {}
  },
  {
   "cell_type": "code",
   "execution_count": 2,
   "source": [
    "ext = \"50_8\"\n",
    "featuresRaw = np.loadtxt(\"data/dataset/rawExtract/features{}.txt\".format(ext))\n",
    "\n",
    "labelDesc = np.loadtxt(\"data/dataset/rawExtract/labels{}.txt\".format(ext), dtype= \"str\" )\n",
    "labelDesc = pd.DataFrame(labelDesc, columns=[\"pids\", \"descriptions\", \"labels\"])\n",
    "\n",
    "with open(\"data/dataset/rawExtract/meta{}.json\".format(ext), 'r') as jsonFile:\n",
    "    meta = json.load(jsonFile)\n",
    "\n",
    "print(json.dumps(meta, indent=4))"
   ],
   "outputs": [
    {
     "output_type": "stream",
     "name": "stdout",
     "text": [
      "{\n",
      "    \"columns\": [\n",
      "        \"Accel_LN_X_CAL\",\n",
      "        \"Accel_LN_Y_CAL\",\n",
      "        \"Accel_LN_Z_CAL\",\n",
      "        \"Resultant_Accel_LN_\",\n",
      "        \"Gyro_X_CAL\",\n",
      "        \"Gyro_Y_CAL\",\n",
      "        \"Gyro_Z_CAL\",\n",
      "        \"Resultant_Gyro_\"\n",
      "    ],\n",
      "    \"timeLength\": \"0.5 seconds\",\n",
      "    \"instanceSegmented\": \"50 samples going back from key press y\",\n",
      "    \"cols\": 8,\n",
      "    \"length\": 50\n",
      "}\n"
     ]
    }
   ],
   "metadata": {}
  },
  {
   "cell_type": "code",
   "execution_count": 3,
   "source": [
    "featuresRaw = featuresRaw.reshape(len(featuresRaw), meta[\"length\"], meta[\"cols\"])\n",
    "columns = meta[\"columns\"]"
   ],
   "outputs": [],
   "metadata": {}
  },
  {
   "cell_type": "code",
   "execution_count": 4,
   "source": [
    "from Heuristics import *\n",
    "featH = HeuristicBuilder(featuresRaw)\n",
    "colH = get_labels()\n",
    "df = pd.DataFrame(featH, columns=colH)\n",
    "df[\"pids\"] = labelDesc[\"pids\"]\n",
    "df[\"descriptions\"] = labelDesc[\"descriptions\"]\n",
    "df[\"labels\"] = labelDesc[\"labels\"]"
   ],
   "outputs": [],
   "metadata": {}
  },
  {
   "cell_type": "code",
   "execution_count": 7,
   "source": [
    "df.to_csv(\"data/dataset/statFeatures/stat50_8.csv\")\n",
    "met = {\"featureType\" : \"stat features (11) for 8 columns\",\n",
    "        \"columns\" : \"indicated in header\",\n",
    "        \"timeLength\": \"0.5 seconds\",\n",
    "        \"instanceSegmented\": \"50 samples going back from key press y\",\n",
    "        \"cols\": 8,\n",
    "        \"length\": 50\n",
    "        }\n",
    "\n",
    "with open(\"data/dataset/statFeatures/meta50_8.json\", \"w\") as jsonFile:\n",
    "        json.dump(met, jsonFile)"
   ],
   "outputs": [],
   "metadata": {}
  }
 ],
 "metadata": {
  "orig_nbformat": 4,
  "language_info": {
   "name": "python",
   "version": "3.9.7",
   "mimetype": "text/x-python",
   "codemirror_mode": {
    "name": "ipython",
    "version": 3
   },
   "pygments_lexer": "ipython3",
   "nbconvert_exporter": "python",
   "file_extension": ".py"
  },
  "kernelspec": {
   "name": "python3",
   "display_name": "Python 3.9.7 64-bit ('facePy': conda)"
  },
  "interpreter": {
   "hash": "c39a2619ac667b8116ef4989c7433e85b59243eb4a825554e252b96c371cd590"
  }
 },
 "nbformat": 4,
 "nbformat_minor": 2
}