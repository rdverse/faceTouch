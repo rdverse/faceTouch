{
 "cells": [
  {
   "cell_type": "code",
   "execution_count": 1,
   "source": [
    "    \"\"\"Import Libraries\n",
    "    \"\"\"\n",
    "import json\n",
    "import numpy as np\n",
    "import pandas as pd\n",
    "import tqdm\n",
    "from Heuristics import *\n"
   ],
   "outputs": [],
   "metadata": {}
  },
  {
   "cell_type": "markdown",
   "source": [
    "# Make data"
   ],
   "metadata": {}
  },
  {
   "cell_type": "code",
   "execution_count": null,
   "source": [],
   "outputs": [],
   "metadata": {}
  },
  {
   "cell_type": "markdown",
   "source": [
    "# Load data"
   ],
   "metadata": {}
  },
  {
   "cell_type": "code",
   "execution_count": 3,
   "source": [
    "for ext in tqdm.tqdm([\"80_8\"]):\n",
    "\n",
    "    featuresRaw = np.loadtxt(\"data/dataset/rawExtract/features{}.txt\".format(ext))\n",
    "\n",
    "    labelDesc = np.loadtxt(\"data/dataset/rawExtract/labels{}.txt\".format(ext), dtype= \"str\" )\n",
    "    labelDesc = pd.DataFrame(labelDesc, columns=[\"pids\", \"descriptions\", \"labels\"])\n",
    "\n",
    "    with open(\"data/dataset/rawExtract/meta{}.json\".format(ext), 'r') as jsonFile:\n",
    "        meta = json.load(jsonFile)\n",
    "\n",
    "    print(json.dumps(meta, indent=4))\n",
    "    \n",
    "    featuresRaw = featuresRaw.reshape(len(featuresRaw), int(meta[\"length\"]), int(meta[\"cols\"]))\n",
    "    columns = meta[\"columns\"]\n",
    "\n",
    "    featH = HeuristicBuilder(featuresRaw)\n",
    "    colH = get_labels()\n",
    "    df = pd.DataFrame(featH, columns=colH)\n",
    "    df[\"pids\"] = labelDesc[\"pids\"]\n",
    "    df[\"descriptions\"] = labelDesc[\"descriptions\"]\n",
    "    df[\"labels\"] = labelDesc[\"labels\"]\n",
    "    df.to_csv(\"data/dataset/statFeatures/stat{}.csv\".format(ext))\n",
    "\n",
    "    met = {\"featureType\" : \"stat features (11) for 8 columns\",\n",
    "            \"columns\" : \"indicated in header\",\n",
    "            \"timeLength\": \"{} seconds\".format(int(ext.split('_')[0])/100),\n",
    "            \"instanceSegmented\": \"{} samples going back from key press y\".format(ext.split('_')[0]),\n",
    "            \"cols\": ext.split('_')[1],\n",
    "            \"length\": ext.split('_')[0]\n",
    "            }\n",
    "\n",
    "    with open(\"data/dataset/statFeatures/meta{}.json\".format(ext), \"w\") as jsonFile:\n",
    "            json.dump(met, jsonFile)"
   ],
   "outputs": [
    {
     "output_type": "stream",
     "name": "stderr",
     "text": [
      "  0%|          | 0/1 [00:00<?, ?it/s]"
     ]
    },
    {
     "output_type": "stream",
     "name": "stdout",
     "text": [
      "{\n",
      "    \"columns\": [\n",
      "        \"Accel_LN_X_CAL\",\n",
      "        \"Accel_LN_Y_CAL\",\n",
      "        \"Accel_LN_Z_CAL\",\n",
      "        \"Resultant_Accel_LN_\",\n",
      "        \"Gyro_X_CAL\",\n",
      "        \"Gyro_Y_CAL\",\n",
      "        \"Gyro_Z_CAL\",\n",
      "        \"Resultant_Gyro_\"\n",
      "    ],\n",
      "    \"timeLength\": \"0.0.8 seconds\",\n",
      "    \"instanceSegmented\": \"80 samples going back from key press y\",\n",
      "    \"cols\": 8,\n",
      "    \"length\": \"80\"\n",
      "}\n"
     ]
    },
    {
     "output_type": "stream",
     "name": "stderr",
     "text": [
      "100%|██████████| 1/1 [00:11<00:00, 11.97s/it]\n"
     ]
    }
   ],
   "metadata": {}
  },
  {
   "cell_type": "code",
   "execution_count": 45,
   "source": [
    "from sklearn.preprocessing import PolynomialFeatures\n",
    "p = PolynomialFeatures(1)\n",
    "p.fit_transform(np.ones((2000,100)))"
   ],
   "outputs": [
    {
     "output_type": "execute_result",
     "data": {
      "text/plain": [
       "array([[1., 1., 1., ..., 1., 1., 1.],\n",
       "       [1., 1., 1., ..., 1., 1., 1.],\n",
       "       [1., 1., 1., ..., 1., 1., 1.],\n",
       "       ...,\n",
       "       [1., 1., 1., ..., 1., 1., 1.],\n",
       "       [1., 1., 1., ..., 1., 1., 1.],\n",
       "       [1., 1., 1., ..., 1., 1., 1.]])"
      ]
     },
     "metadata": {},
     "execution_count": 45
    }
   ],
   "metadata": {}
  },
  {
   "cell_type": "code",
   "execution_count": 42,
   "source": [
    "from sklearn.metrics import classification_report\n",
    "f = classification_report([1,0,1,0,1,1,1],[1,1,1,0,0,0,0], output_dict=True, target_names= [\"face\", \"non-face\"])\n",
    "# with open(\"classreport.txt\", 'w') as file:\n",
    "#     file.write(f)"
   ],
   "outputs": [],
   "metadata": {}
  },
  {
   "cell_type": "code",
   "execution_count": 32,
   "source": [
    "content = \"\"\n",
    "with open(\"classreport.txt\", 'r') as file:\n",
    "    content = file.readlines()"
   ],
   "outputs": [],
   "metadata": {}
  },
  {
   "cell_type": "code",
   "execution_count": 35,
   "source": [
    "print(content[0])"
   ],
   "outputs": [
    {
     "output_type": "stream",
     "name": "stdout",
     "text": [
      "              precision    recall  f1-score   support\n",
      "\n"
     ]
    }
   ],
   "metadata": {}
  }
 ],
 "metadata": {
  "orig_nbformat": 4,
  "language_info": {
   "name": "python",
   "version": "3.9.7",
   "mimetype": "text/x-python",
   "codemirror_mode": {
    "name": "ipython",
    "version": 3
   },
   "pygments_lexer": "ipython3",
   "nbconvert_exporter": "python",
   "file_extension": ".py"
  },
  "kernelspec": {
   "name": "python3",
   "display_name": "Python 3.9.7 64-bit ('facePy': conda)"
  },
  "interpreter": {
   "hash": "c39a2619ac667b8116ef4989c7433e85b59243eb4a825554e252b96c371cd590"
  }
 },
 "nbformat": 4,
 "nbformat_minor": 2
}