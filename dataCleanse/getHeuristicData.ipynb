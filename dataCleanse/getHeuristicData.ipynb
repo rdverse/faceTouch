{
 "cells": [
  {
   "cell_type": "code",
   "execution_count": 11,
   "source": [
    "    \"\"\"Import Libraries\n",
    "    \"\"\"\n",
    "import numpy as np\n",
    "import pandas as pd"
   ],
   "outputs": [],
   "metadata": {}
  },
  {
   "cell_type": "markdown",
   "source": [
    "# Load data"
   ],
   "metadata": {}
  },
  {
   "cell_type": "code",
   "execution_count": 39,
   "source": [
    "ext = \"50_8\"\n",
    "featuresRaw = np.loadtxt(\"data/dataset/rawExtract/features{}.txt\".format(ext))\n",
    "\n",
    "labelDesc = np.loadtxt(\"data/dataset/rawExtract/labels{}.txt\".format(ext), dtype= \"str\" )\n",
    "with open(\"data/dataset/rawExtract/meta{}.json\".format(ext), 'r') as jsonFile:\n",
    "    meta = json.load(jsonFile)"
   ],
   "outputs": [],
   "metadata": {}
  },
  {
   "cell_type": "code",
   "execution_count": 40,
   "source": [
    "featuresRaw = featuresRaw.reshape(len(featuresRaw), 50, 8)\n",
    "columns = meta[\"columns\"]"
   ],
   "outputs": [],
   "metadata": {}
  },
  {
   "cell_type": "code",
   "execution_count": 41,
   "source": [
    "np.take(featuresRaw,7,axis=2)[0][:10]"
   ],
   "outputs": [
    {
     "output_type": "execute_result",
     "data": {
      "text/plain": [
       "array([113.56354144, 118.53020612, 111.31383146, 113.04030311,\n",
       "       125.51103524, 141.69425683, 156.72473983, 168.93366688,\n",
       "       172.99806748, 167.0007131 ])"
      ]
     },
     "metadata": {},
     "execution_count": 41
    }
   ],
   "metadata": {}
  },
  {
   "cell_type": "code",
   "execution_count": 30,
   "source": [
    "meta = {\"columns\" : [\"Accel_LN_X_CAL\",\"Accel_LN_Y_CAL\",\"Accel_LN_Z_CAL\",  \"Resultant_Accel_LN_\", \"Gyro_X_CAL\", \"Gyro_Y_CAL\", \"Gyro_Z_CAL\", \"Resultant_Gyro_\"],\n",
    "        \"timeLength\" : \"0.5 seconds\",\n",
    "        \"instanceSegmented\" : \"50 samples going back from key press y\"\n",
    "        }"
   ],
   "outputs": [],
   "metadata": {}
  },
  {
   "cell_type": "code",
   "execution_count": 35,
   "source": [],
   "outputs": [
    {
     "output_type": "stream",
     "name": "stdout",
     "text": [
      "{\n",
      "    \"columns\": [\n",
      "        \"Accel_LN_X_CAL\",\n",
      "        \"Accel_LN_Y_CAL\",\n",
      "        \"Accel_LN_Z_CAL\",\n",
      "        \"Resultant_Accel_LN_\",\n",
      "        \"Gyro_X_CAL\",\n",
      "        \"Gyro_Y_CAL\",\n",
      "        \"Gyro_Z_CAL\",\n",
      "        \"Resultant_Gyro_\"\n",
      "    ],\n",
      "    \"timeLength\": \"0.5 seconds\",\n",
      "    \"instanceSegmented\": \"50 samples going back from key press y\"\n",
      "}\n"
     ]
    }
   ],
   "metadata": {}
  },
  {
   "cell_type": "code",
   "execution_count": 37,
   "source": [],
   "outputs": [],
   "metadata": {}
  },
  {
   "cell_type": "code",
   "execution_count": 38,
   "source": [],
   "outputs": [
    {
     "output_type": "execute_result",
     "data": {
      "text/plain": [
       "{'columns': ['Accel_LN_X_CAL',\n",
       "  'Accel_LN_Y_CAL',\n",
       "  'Accel_LN_Z_CAL',\n",
       "  'Resultant_Accel_LN_',\n",
       "  'Gyro_X_CAL',\n",
       "  'Gyro_Y_CAL',\n",
       "  'Gyro_Z_CAL',\n",
       "  'Resultant_Gyro_'],\n",
       " 'timeLength': '0.5 seconds',\n",
       " 'instanceSegmented': '50 samples going back from key press y'}"
      ]
     },
     "metadata": {},
     "execution_count": 38
    }
   ],
   "metadata": {}
  },
  {
   "cell_type": "code",
   "execution_count": null,
   "source": [],
   "outputs": [],
   "metadata": {}
  }
 ],
 "metadata": {
  "orig_nbformat": 4,
  "language_info": {
   "name": "python",
   "version": "3.9.7",
   "mimetype": "text/x-python",
   "codemirror_mode": {
    "name": "ipython",
    "version": 3
   },
   "pygments_lexer": "ipython3",
   "nbconvert_exporter": "python",
   "file_extension": ".py"
  },
  "kernelspec": {
   "name": "python3",
   "display_name": "Python 3.9.7 64-bit ('facePy': conda)"
  },
  "interpreter": {
   "hash": "c39a2619ac667b8116ef4989c7433e85b59243eb4a825554e252b96c371cd590"
  }
 },
 "nbformat": 4,
 "nbformat_minor": 2
}