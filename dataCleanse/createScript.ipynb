{
 "cells": [
  {
   "cell_type": "markdown",
   "source": [
    "# Script for Cleanong raw files"
   ],
   "metadata": {}
  },
  {
   "cell_type": "code",
   "execution_count": 2,
   "source": [
    "#import required libraries|\n",
    "import os\n",
    "import pandas as pd\n",
    "import numpy as np\n",
    "import datetime\n",
    "from IPython.display import clear_output\n",
    "from matplotlib import pyplot as plt\n",
    "import matplotlib.pyplot as plt\n",
    "from mpl_toolkits.mplot3d import axes3d, Axes3D\n",
    "%matplotlib inline"
   ],
   "outputs": [],
   "metadata": {}
  },
  {
   "cell_type": "markdown",
   "source": [
    "# Functions to clean raw data file"
   ],
   "metadata": {}
  },
  {
   "cell_type": "code",
   "execution_count": 6,
   "source": [
    "def _get_resultants(dataDf):\n",
    "    \"\"\" get resultant columns for 'Accel_LN_', 'Accel_WR_', 'Gyro_','Mag_'\n",
    "\n",
    "    Args:\n",
    "        dataDf (data frame): loaded raw dataFrame \n",
    "\n",
    "    Returns:\n",
    "        dataframe: data frame with added resultant columns\n",
    "    \"\"\"\n",
    "    colsNeeded = ['Accel_LN_', 'Accel_WR_', 'Gyro_','Mag_']\n",
    "    \n",
    "    for colRes in colsNeeded:\n",
    "        try:\n",
    "            dataDf['Resultant_' + colRes] = np.sqrt(np.square(dataDf[colRes + 'X_CAL']) + \n",
    "                                            np.square(dataDf[colRes + 'Y_CAL']) + \n",
    "                                            np.square(dataDf[colRes + 'Z_CAL']))\n",
    "        except:\n",
    "            print(\"Issue with %s\" % colRes)\n",
    "\n",
    "    return dataDf\n",
    "\n",
    "def process_rawdata(PATH):\n",
    "    \"\"\"Shimmer is not the best in saving csv files. This function takes care of it. Just pass the PATH of file you need\n",
    "\n",
    "    Args:\n",
    "        PATH (str): PATH of the file \n",
    "\n",
    "    Returns:\n",
    "        data frame: data loaded and returned as a dataframe\n",
    "    \"\"\"\n",
    "    #read file\n",
    "    dataDf = pd.read_csv(PATH, sep = '\\t', header=0)\n",
    "    #drop last col with nan\n",
    "    dataDf.dropna(axis=1, inplace = True)\n",
    "    #rename cols\n",
    "    newColNames = [name + '_' + dataDf.iloc[1].values[i] for i,name in enumerate(dataDf.iloc[0].values)]\n",
    "    # change header\n",
    "    dataDf = dataDf.set_axis(newColNames, axis=1, inplace=False)[3:].reset_index(drop=True)\n",
    "    # switch values to float\n",
    "    dataDf = dataDf.astype(float)\n",
    "    # get resultant vals\n",
    "    dataDf = _get_resultants(dataDf)\n",
    "    # return df\n",
    "    return dataDf"
   ],
   "outputs": [],
   "metadata": {}
  },
  {
   "cell_type": "markdown",
   "source": [
    "# String operations"
   ],
   "metadata": {}
  },
  {
   "cell_type": "code",
   "execution_count": 5,
   "source": [
    "'''\n",
    "function : digit\n",
    "--------\n",
    "'''\n",
    "def digit_splitter(name, type='d'):\n",
    "    if type=='d':\n",
    "        item = ''.join([n for n in name if n.isdigit()])\n",
    "        item = int(item)\n",
    "    \n",
    "    else:\n",
    "        item = ''.join([n for n in name if not n.isdigit()])\n",
    "    return item\n"
   ],
   "outputs": [],
   "metadata": {}
  },
  {
   "cell_type": "code",
   "execution_count": 8,
   "source": [],
   "outputs": [
    {
     "output_type": "execute_result",
     "data": {
      "text/plain": [
       "123"
      ]
     },
     "metadata": {},
     "execution_count": 8
    }
   ],
   "metadata": {}
  },
  {
   "cell_type": "code",
   "execution_count": null,
   "source": [],
   "outputs": [],
   "metadata": {}
  },
  {
   "cell_type": "code",
   "execution_count": 16,
   "source": [
    "%ls ../data/raw/b"
   ],
   "outputs": [
    {
     "output_type": "stream",
     "name": "stdout",
     "text": [
      "20210910170749b_le_sit.csv  20210910173421b_i_sta.csv\n",
      "20210910170937b_re_sit.csv  20210910173620b_sh_sta.csv\n",
      "20210910171203b_n_sit.csv   20210910173830b_sh_sit.csv\n",
      "20210910171401b_m_sit.csv   20210910173955b_sit_sit.csv\n",
      "20210910171629b_le_sta.csv  20210910174102b_sta_sta.csv\n",
      "20210910171904b_re_sta.csv  20210910174229b_w_w.csv\n",
      "20210910172032b_m_sta.csv   20210910174420b_le_w.csv\n",
      "20210910172158b_n_sta.csv   20210910174515b_re_w.csv\n",
      "20210910172423b_n_sta.csv   20210910174623b_n_w.csv\n",
      "20210910172659b_s_sit.csv   20210910174734b_m_w.csv\n",
      "20210910172844b_s_sta.csv   20210910174917b_sc_w.csv\n",
      "20210910173244b_i_sit.csv   20210910175312b_sh_w.csv\n",
      "20210910173347b_i_sta.csv\n"
     ]
    }
   ],
   "metadata": {}
  },
  {
   "cell_type": "markdown",
   "source": [
    "# Load raw data and tags Files"
   ],
   "metadata": {}
  },
  {
   "cell_type": "code",
   "execution_count": 17,
   "source": [
    "fileName = \"a_le_sit.csv\"\n",
    "tagsDf = pd.read_csv(\"../data/tags/b/b_m_sit.csv\", index_col=[0])\n",
    "dataDf = process_rawdata(\"../data/raw/b/20210910171401b_m_sit.csv\")\n",
    "tagsDf['time'] = pd.to_datetime(tagsDf.time) + datetime.timedelta(0,1)"
   ],
   "outputs": [],
   "metadata": {}
  },
  {
   "cell_type": "code",
   "execution_count": 19,
   "source": [
    "import datetime\n",
    "datetime.datetime.strptime('20210910105115', \"%Y%m%d%H%M%S\") + datetime.timedelta(0,1)"
   ],
   "outputs": [
    {
     "output_type": "execute_result",
     "data": {
      "text/plain": [
       "datetime.datetime(2021, 9, 10, 10, 51, 16)"
      ]
     },
     "metadata": {},
     "execution_count": 19
    }
   ],
   "metadata": {}
  },
  {
   "cell_type": "code",
   "execution_count": 20,
   "source": [
    "dataDf['TimeStamp'] = [datetime.datetime.strptime('20210910105115', \"%Y%m%d%H%M%S\") +\n",
    "                       datetime.timedelta(0,v/51) for v in dataDf.index+1]"
   ],
   "outputs": [],
   "metadata": {}
  },
  {
   "cell_type": "code",
   "execution_count": 21,
   "source": [
    "plt.figure(figsize = (7,5),dpi=120)\n",
    "\n",
    "#plt.plot(dataDf.TimeStamp[2000:3000],dataDf.Resultant_Accel_LN_[:1000])\n",
    "\n",
    "plt.plot(dataDf.TimeStamp[2000:3000],dataDf.Resultant_Accel_LN_[2000:3000], color='black')\n",
    "\n",
    "\n",
    "# plt.plot(dataDf.TimeStamp[2000:3000],dataDf.Accel_LN_X_CAL[2000:3000], label = 'x-Accel')\n",
    "# plt.plot(dataDf.TimeStamp[2000:3000],dataDf.Accel_LN_Y_CAL[2000:3000], label = 'y-Accel')\n",
    "# plt.plot(dataDf.TimeStamp[2000:3000],dataDf.Accel_LN_Z_CAL[2000:3000], label = 'z-Accel')\n",
    "\n",
    "plt.xticks(rotation=45)\n",
    "\n",
    "# d = data['Date'].values\n",
    "# plt.fill_between(d, data['A'], data['B'],\n",
    "#                 where=data['A'] >= data['B'],\n",
    "#                 facecolor='green', alpha=0.2, interpolate=True)\n",
    "\n",
    "\n",
    "for i,bar in enumerate(tagsDf.values.reshape(27,3,2)[8:13]):\n",
    "    times = np.take(bar,0, axis=1)\n",
    "    times = [t - datetime.timedelta(0,1) for t in times]\n",
    "    a = times[0]\n",
    "    b = times[1]\n",
    "    vals = dataDf.Resultant_Accel_LN_[2000:3000]\n",
    "    #vals = [0,25]\n",
    "    if i==0:\n",
    "        plt.fill_between([times[0],times[1]], np.min(vals), np.max(vals), alpha =0.6, color = 'gray', label = \"transition to touch\")\n",
    "        plt.fill_between([times[1],times[2]], np.min(vals), np.max(vals), alpha =0.6, color = 'pink', label = \"touch left eye\")\n",
    "    else:\n",
    "        plt.fill_between([times[0],times[1]], np.min(vals), np.max(vals), alpha =0.6, color = 'gray')\n",
    "        plt.fill_between([times[1],times[2]], np.min(vals), np.max(vals), alpha =0.6, color = 'pink')\n",
    "        \n",
    "plt.xlabel(\"Time (HH:MM:SS)\")\n",
    "    #plt.fill_between([times[1],times[2]], np.min(vals), np.max(vals), alpha =0.6, color = 'yellow')\n",
    "\n",
    "    # #     plt.fill_between(np.take(bar,0))\n",
    "    \n",
    "# #     print(np.take(bar,0))\n",
    "# #     pos= np.sum(np.take(bar,0))\n",
    "# #     print(pos)\n",
    "#     plt.bar(np.take(bar,0), 27.5, datetime.timedelta(0,20))\n",
    "    \n",
    "#     val= [max_val]\n",
    "#     width = [bar[2][0]-bar[0][0]]\n",
    "#     ax2.bar(pos,val,width, color = 'black', alpha = 0.1)\n",
    "plt.legend()\n",
    "plt.savefig(\"r.png\")\n",
    "plt.show()\n",
    "#plt.bar()\n",
    "%matplotlib inline"
   ],
   "outputs": [
    {
     "output_type": "error",
     "ename": "ValueError",
     "evalue": "cannot reshape array of size 102 into shape (27,3,2)",
     "traceback": [
      "\u001b[0;31m---------------------------------------------------------------------------\u001b[0m",
      "\u001b[0;31mValueError\u001b[0m                                Traceback (most recent call last)",
      "\u001b[0;32m/tmp/ipykernel_21610/3264120286.py\u001b[0m in \u001b[0;36m<module>\u001b[0;34m\u001b[0m\n\u001b[1;32m     18\u001b[0m \u001b[0;34m\u001b[0m\u001b[0m\n\u001b[1;32m     19\u001b[0m \u001b[0;34m\u001b[0m\u001b[0m\n\u001b[0;32m---> 20\u001b[0;31m \u001b[0;32mfor\u001b[0m \u001b[0mi\u001b[0m\u001b[0;34m,\u001b[0m\u001b[0mbar\u001b[0m \u001b[0;32min\u001b[0m \u001b[0menumerate\u001b[0m\u001b[0;34m(\u001b[0m\u001b[0mtagsDf\u001b[0m\u001b[0;34m.\u001b[0m\u001b[0mvalues\u001b[0m\u001b[0;34m.\u001b[0m\u001b[0mreshape\u001b[0m\u001b[0;34m(\u001b[0m\u001b[0;36m27\u001b[0m\u001b[0;34m,\u001b[0m\u001b[0;36m3\u001b[0m\u001b[0;34m,\u001b[0m\u001b[0;36m2\u001b[0m\u001b[0;34m)\u001b[0m\u001b[0;34m[\u001b[0m\u001b[0;36m8\u001b[0m\u001b[0;34m:\u001b[0m\u001b[0;36m13\u001b[0m\u001b[0;34m]\u001b[0m\u001b[0;34m)\u001b[0m\u001b[0;34m:\u001b[0m\u001b[0;34m\u001b[0m\u001b[0;34m\u001b[0m\u001b[0m\n\u001b[0m\u001b[1;32m     21\u001b[0m     \u001b[0mtimes\u001b[0m \u001b[0;34m=\u001b[0m \u001b[0mnp\u001b[0m\u001b[0;34m.\u001b[0m\u001b[0mtake\u001b[0m\u001b[0;34m(\u001b[0m\u001b[0mbar\u001b[0m\u001b[0;34m,\u001b[0m\u001b[0;36m0\u001b[0m\u001b[0;34m,\u001b[0m \u001b[0maxis\u001b[0m\u001b[0;34m=\u001b[0m\u001b[0;36m1\u001b[0m\u001b[0;34m)\u001b[0m\u001b[0;34m\u001b[0m\u001b[0;34m\u001b[0m\u001b[0m\n\u001b[1;32m     22\u001b[0m     \u001b[0mtimes\u001b[0m \u001b[0;34m=\u001b[0m \u001b[0;34m[\u001b[0m\u001b[0mt\u001b[0m \u001b[0;34m-\u001b[0m \u001b[0mdatetime\u001b[0m\u001b[0;34m.\u001b[0m\u001b[0mtimedelta\u001b[0m\u001b[0;34m(\u001b[0m\u001b[0;36m0\u001b[0m\u001b[0;34m,\u001b[0m\u001b[0;36m1\u001b[0m\u001b[0;34m)\u001b[0m \u001b[0;32mfor\u001b[0m \u001b[0mt\u001b[0m \u001b[0;32min\u001b[0m \u001b[0mtimes\u001b[0m\u001b[0;34m]\u001b[0m\u001b[0;34m\u001b[0m\u001b[0;34m\u001b[0m\u001b[0m\n",
      "\u001b[0;31mValueError\u001b[0m: cannot reshape array of size 102 into shape (27,3,2)"
     ]
    },
    {
     "output_type": "display_data",
     "data": {
      "image/png": "[encoded data removed]",
      "text/plain": [
       "<Figure size 840x600 with 1 Axes>"
      ]
     },
     "metadata": {
      "needs_background": "light"
     }
    }
   ],
   "metadata": {}
  },
  {
   "cell_type": "code",
   "execution_count": 216,
   "source": [
    "for val in tagsDf.values.reshape(27,3,2)[:4]:\n",
    "    print(np.take(val,0, axis=1))"
   ],
   "outputs": [
    {
     "output_type": "stream",
     "name": "stdout",
     "text": [
      "[Timestamp('2021-09-10 10:51:18.262964')\n",
      " Timestamp('2021-09-10 10:51:18.868621')\n",
      " Timestamp('2021-09-10 10:51:19.556485')]\n",
      "[Timestamp('2021-09-10 10:51:20.405710')\n",
      " Timestamp('2021-09-10 10:51:20.976593')\n",
      " Timestamp('2021-09-10 10:51:21.534269')]\n",
      "[Timestamp('2021-09-10 10:51:22.402140')\n",
      " Timestamp('2021-09-10 10:51:22.926471')\n",
      " Timestamp('2021-09-10 10:51:23.642457')]\n",
      "[Timestamp('2021-09-10 10:51:24.369033')\n",
      " Timestamp('2021-09-10 10:51:25.001542')\n",
      " Timestamp('2021-09-10 10:51:25.644294')]\n"
     ]
    }
   ],
   "metadata": {}
  },
  {
   "cell_type": "code",
   "execution_count": 211,
   "source": [
    "tagsDf.values.reshape(27,3,2)[:4]"
   ],
   "outputs": [
    {
     "output_type": "execute_result",
     "data": {
      "text/plain": [
       "array([[[Timestamp('2021-09-10 10:51:18.262964'), 't'],\n",
       "        [Timestamp('2021-09-10 10:51:18.868621'), 'y'],\n",
       "        [Timestamp('2021-09-10 10:51:19.556485'), 'u']],\n",
       "\n",
       "       [[Timestamp('2021-09-10 10:51:20.405710'), 't'],\n",
       "        [Timestamp('2021-09-10 10:51:20.976593'), 'y'],\n",
       "        [Timestamp('2021-09-10 10:51:21.534269'), 'u']],\n",
       "\n",
       "       [[Timestamp('2021-09-10 10:51:22.402140'), 't'],\n",
       "        [Timestamp('2021-09-10 10:51:22.926471'), 'y'],\n",
       "        [Timestamp('2021-09-10 10:51:23.642457'), 'u']],\n",
       "\n",
       "       [[Timestamp('2021-09-10 10:51:24.369033'), 't'],\n",
       "        [Timestamp('2021-09-10 10:51:25.001542'), 'y'],\n",
       "        [Timestamp('2021-09-10 10:51:25.644294'), 'u']]], dtype=object)"
      ]
     },
     "metadata": {},
     "execution_count": 211
    }
   ],
   "metadata": {}
  },
  {
   "cell_type": "code",
   "execution_count": 203,
   "source": [
    "bar"
   ],
   "outputs": [
    {
     "output_type": "execute_result",
     "data": {
      "text/plain": [
       "array([Timestamp('2021-09-10 10:51:26.539843'), 't'], dtype=object)"
      ]
     },
     "metadata": {},
     "execution_count": 203
    }
   ],
   "metadata": {}
  },
  {
   "cell_type": "code",
   "execution_count": 171,
   "source": [
    "81/3"
   ],
   "outputs": [
    {
     "output_type": "execute_result",
     "data": {
      "text/plain": [
       "27.0"
      ]
     },
     "metadata": {},
     "execution_count": 171
    }
   ],
   "metadata": {}
  },
  {
   "cell_type": "code",
   "execution_count": null,
   "source": [],
   "outputs": [],
   "metadata": {}
  }
 ],
 "metadata": {
  "kernelspec": {
   "display_name": "facePy",
   "language": "python",
   "name": "facepy"
  },
  "language_info": {
   "codemirror_mode": {
    "name": "ipython",
    "version": 3
   },
   "file_extension": ".py",
   "mimetype": "text/x-python",
   "name": "python",
   "nbconvert_exporter": "python",
   "pygments_lexer": "ipython3",
   "version": "3.9.7"
  }
 },
 "nbformat": 4,
 "nbformat_minor": 5
}